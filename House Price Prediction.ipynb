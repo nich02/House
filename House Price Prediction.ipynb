{
 "cells": [
  {
   "cell_type": "code",
   "execution_count": 2,
   "metadata": {},
   "outputs": [],
   "source": [
    "# IMPORTING PACKAGES\n",
    "\n",
    "import pandas as pd # data processing\n",
    "import numpy as np # working with arrays\n",
    "import matplotlib.pyplot as plt # visualization\n",
    "import seaborn as sb # visualization\n",
    "from termcolor import colored as cl # text customization\n",
    "import warnings                                 \n",
    "warnings.filterwarnings('ignore')\n"
   ]
  },
  {
   "cell_type": "code",
   "execution_count": 3,
   "metadata": {},
   "outputs": [],
   "source": [
    "#df = pd.read_csv(\"\")\n",
    "#df.set_index('Id', inplace = True) # We set the Id col as the index column\n",
    "#df.head(5) "
   ]
  },
  {
   "cell_type": "code",
   "execution_count": 3,
   "metadata": {},
   "outputs": [
    {
     "data": {
      "text/plain": [
       "LotArea        0.000000\n",
       "MasVnrArea     0.547945\n",
       "BsmtUnfSF      0.000000\n",
       "TotalBsmtSF    0.000000\n",
       "1stFlrSF       0.000000\n",
       "2ndFlrSF       0.000000\n",
       "GrLivArea      0.000000\n",
       "GarageArea     0.000000\n",
       "WoodDeckSF     0.000000\n",
       "OpenPorchSF    0.000000\n",
       "SalePrice      0.000000\n",
       "dtype: float64"
      ]
     },
     "execution_count": 3,
     "metadata": {},
     "output_type": "execute_result"
    }
   ],
   "source": [
    "# EDA\n",
    "# Checking if there're nulls\n",
    "df.isnull().sum() / df.shape[0]*100\n",
    "#df.dropna(inplace = True)"
   ]
  },
  {
   "cell_type": "code",
   "execution_count": 4,
   "metadata": {},
   "outputs": [
    {
     "data": {
      "text/html": [
       "<div>\n",
       "<style scoped>\n",
       "    .dataframe tbody tr th:only-of-type {\n",
       "        vertical-align: middle;\n",
       "    }\n",
       "\n",
       "    .dataframe tbody tr th {\n",
       "        vertical-align: top;\n",
       "    }\n",
       "\n",
       "    .dataframe thead th {\n",
       "        text-align: right;\n",
       "    }\n",
       "</style>\n",
       "<table border=\"1\" class=\"dataframe\">\n",
       "  <thead>\n",
       "    <tr style=\"text-align: right;\">\n",
       "      <th></th>\n",
       "      <th>LotArea</th>\n",
       "      <th>MasVnrArea</th>\n",
       "      <th>BsmtUnfSF</th>\n",
       "      <th>TotalBsmtSF</th>\n",
       "      <th>1stFlrSF</th>\n",
       "      <th>2ndFlrSF</th>\n",
       "      <th>GrLivArea</th>\n",
       "      <th>GarageArea</th>\n",
       "      <th>WoodDeckSF</th>\n",
       "      <th>OpenPorchSF</th>\n",
       "      <th>SalePrice</th>\n",
       "    </tr>\n",
       "  </thead>\n",
       "  <tbody>\n",
       "    <tr>\n",
       "      <th>count</th>\n",
       "      <td>1460.000000</td>\n",
       "      <td>1452.000000</td>\n",
       "      <td>1460.000000</td>\n",
       "      <td>1460.000000</td>\n",
       "      <td>1460.000000</td>\n",
       "      <td>1460.000000</td>\n",
       "      <td>1460.000000</td>\n",
       "      <td>1460.000000</td>\n",
       "      <td>1460.000000</td>\n",
       "      <td>1460.000000</td>\n",
       "      <td>1460.000000</td>\n",
       "    </tr>\n",
       "    <tr>\n",
       "      <th>mean</th>\n",
       "      <td>10516.828082</td>\n",
       "      <td>103.685262</td>\n",
       "      <td>567.240411</td>\n",
       "      <td>1057.429452</td>\n",
       "      <td>1162.626712</td>\n",
       "      <td>346.992466</td>\n",
       "      <td>1515.463699</td>\n",
       "      <td>472.980137</td>\n",
       "      <td>94.244521</td>\n",
       "      <td>46.660274</td>\n",
       "      <td>180921.195890</td>\n",
       "    </tr>\n",
       "    <tr>\n",
       "      <th>std</th>\n",
       "      <td>9981.264932</td>\n",
       "      <td>181.066207</td>\n",
       "      <td>441.866955</td>\n",
       "      <td>438.705324</td>\n",
       "      <td>386.587738</td>\n",
       "      <td>436.528436</td>\n",
       "      <td>525.480383</td>\n",
       "      <td>213.804841</td>\n",
       "      <td>125.338794</td>\n",
       "      <td>66.256028</td>\n",
       "      <td>79442.502883</td>\n",
       "    </tr>\n",
       "    <tr>\n",
       "      <th>min</th>\n",
       "      <td>1300.000000</td>\n",
       "      <td>0.000000</td>\n",
       "      <td>0.000000</td>\n",
       "      <td>0.000000</td>\n",
       "      <td>334.000000</td>\n",
       "      <td>0.000000</td>\n",
       "      <td>334.000000</td>\n",
       "      <td>0.000000</td>\n",
       "      <td>0.000000</td>\n",
       "      <td>0.000000</td>\n",
       "      <td>34900.000000</td>\n",
       "    </tr>\n",
       "    <tr>\n",
       "      <th>25%</th>\n",
       "      <td>7553.500000</td>\n",
       "      <td>0.000000</td>\n",
       "      <td>223.000000</td>\n",
       "      <td>795.750000</td>\n",
       "      <td>882.000000</td>\n",
       "      <td>0.000000</td>\n",
       "      <td>1129.500000</td>\n",
       "      <td>334.500000</td>\n",
       "      <td>0.000000</td>\n",
       "      <td>0.000000</td>\n",
       "      <td>129975.000000</td>\n",
       "    </tr>\n",
       "    <tr>\n",
       "      <th>50%</th>\n",
       "      <td>9478.500000</td>\n",
       "      <td>0.000000</td>\n",
       "      <td>477.500000</td>\n",
       "      <td>991.500000</td>\n",
       "      <td>1087.000000</td>\n",
       "      <td>0.000000</td>\n",
       "      <td>1464.000000</td>\n",
       "      <td>480.000000</td>\n",
       "      <td>0.000000</td>\n",
       "      <td>25.000000</td>\n",
       "      <td>163000.000000</td>\n",
       "    </tr>\n",
       "    <tr>\n",
       "      <th>75%</th>\n",
       "      <td>11601.500000</td>\n",
       "      <td>166.000000</td>\n",
       "      <td>808.000000</td>\n",
       "      <td>1298.250000</td>\n",
       "      <td>1391.250000</td>\n",
       "      <td>728.000000</td>\n",
       "      <td>1776.750000</td>\n",
       "      <td>576.000000</td>\n",
       "      <td>168.000000</td>\n",
       "      <td>68.000000</td>\n",
       "      <td>214000.000000</td>\n",
       "    </tr>\n",
       "    <tr>\n",
       "      <th>max</th>\n",
       "      <td>215245.000000</td>\n",
       "      <td>1600.000000</td>\n",
       "      <td>2336.000000</td>\n",
       "      <td>6110.000000</td>\n",
       "      <td>4692.000000</td>\n",
       "      <td>2065.000000</td>\n",
       "      <td>5642.000000</td>\n",
       "      <td>1418.000000</td>\n",
       "      <td>857.000000</td>\n",
       "      <td>547.000000</td>\n",
       "      <td>755000.000000</td>\n",
       "    </tr>\n",
       "  </tbody>\n",
       "</table>\n",
       "</div>"
      ],
      "text/plain": [
       "             LotArea   MasVnrArea    BsmtUnfSF  TotalBsmtSF     1stFlrSF  \\\n",
       "count    1460.000000  1452.000000  1460.000000  1460.000000  1460.000000   \n",
       "mean    10516.828082   103.685262   567.240411  1057.429452  1162.626712   \n",
       "std      9981.264932   181.066207   441.866955   438.705324   386.587738   \n",
       "min      1300.000000     0.000000     0.000000     0.000000   334.000000   \n",
       "25%      7553.500000     0.000000   223.000000   795.750000   882.000000   \n",
       "50%      9478.500000     0.000000   477.500000   991.500000  1087.000000   \n",
       "75%     11601.500000   166.000000   808.000000  1298.250000  1391.250000   \n",
       "max    215245.000000  1600.000000  2336.000000  6110.000000  4692.000000   \n",
       "\n",
       "          2ndFlrSF    GrLivArea   GarageArea   WoodDeckSF  OpenPorchSF  \\\n",
       "count  1460.000000  1460.000000  1460.000000  1460.000000  1460.000000   \n",
       "mean    346.992466  1515.463699   472.980137    94.244521    46.660274   \n",
       "std     436.528436   525.480383   213.804841   125.338794    66.256028   \n",
       "min       0.000000   334.000000     0.000000     0.000000     0.000000   \n",
       "25%       0.000000  1129.500000   334.500000     0.000000     0.000000   \n",
       "50%       0.000000  1464.000000   480.000000     0.000000    25.000000   \n",
       "75%     728.000000  1776.750000   576.000000   168.000000    68.000000   \n",
       "max    2065.000000  5642.000000  1418.000000   857.000000   547.000000   \n",
       "\n",
       "           SalePrice  \n",
       "count    1460.000000  \n",
       "mean   180921.195890  \n",
       "std     79442.502883  \n",
       "min     34900.000000  \n",
       "25%    129975.000000  \n",
       "50%    163000.000000  \n",
       "75%    214000.000000  \n",
       "max    755000.000000  "
      ]
     },
     "execution_count": 4,
     "metadata": {},
     "output_type": "execute_result"
    }
   ],
   "source": [
    "df.describe()"
   ]
  },
  {
   "cell_type": "code",
   "execution_count": 5,
   "metadata": {},
   "outputs": [
    {
     "name": "stdout",
     "output_type": "stream",
     "text": [
      "<class 'pandas.core.frame.DataFrame'>\n",
      "Int64Index: 1452 entries, 1 to 1460\n",
      "Data columns (total 11 columns):\n",
      " #   Column       Non-Null Count  Dtype  \n",
      "---  ------       --------------  -----  \n",
      " 0   LotArea      1452 non-null   int64  \n",
      " 1   MasVnrArea   1452 non-null   float64\n",
      " 2   BsmtUnfSF    1452 non-null   int64  \n",
      " 3   TotalBsmtSF  1452 non-null   int64  \n",
      " 4   1stFlrSF     1452 non-null   int64  \n",
      " 5   2ndFlrSF     1452 non-null   int64  \n",
      " 6   GrLivArea    1452 non-null   int64  \n",
      " 7   GarageArea   1452 non-null   int64  \n",
      " 8   WoodDeckSF   1452 non-null   int64  \n",
      " 9   OpenPorchSF  1452 non-null   int64  \n",
      " 10  SalePrice    1452 non-null   int64  \n",
      "dtypes: float64(1), int64(10)\n",
      "memory usage: 136.1 KB\n",
      "None\n"
     ]
    }
   ],
   "source": [
    "# Ckeing the nulls and the dtype at once\n",
    "df = df.dropna(axis = 0)\n",
    "print(df.info())"
   ]
  },
  {
   "cell_type": "code",
   "execution_count": null,
   "metadata": {},
   "outputs": [],
   "source": []
  },
  {
   "cell_type": "code",
   "execution_count": 15,
   "metadata": {},
   "outputs": [
    {
     "data": {
      "text/plain": [
       "864     22\n",
       "1040    14\n",
       "894     11\n",
       "1456    10\n",
       "848     10\n",
       "        ..\n",
       "1405     1\n",
       "1402     1\n",
       "1400     1\n",
       "3447     1\n",
       "2054     1\n",
       "Name: GrLivArea, Length: 858, dtype: int64"
      ]
     },
     "execution_count": 15,
     "metadata": {},
     "output_type": "execute_result"
    }
   ],
   "source": [
    "df['GrLivArea'].value_count()"
   ]
  },
  {
   "cell_type": "code",
   "execution_count": 18,
   "metadata": {},
   "outputs": [],
   "source": [
    "df.drop('GrLivArea', axis = 1, inplace = True)"
   ]
  },
  {
   "cell_type": "code",
   "execution_count": null,
   "metadata": {},
   "outputs": [],
   "source": []
  },
  {
   "cell_type": "code",
   "execution_count": 6,
   "metadata": {},
   "outputs": [
    {
     "data": {
      "image/png": "[encoded data removed]",
      "text/plain": [
       "<Figure size 1440x1080 with 12 Axes>"
      ]
     },
     "metadata": {
      "needs_background": "light"
     },
     "output_type": "display_data"
    }
   ],
   "source": [
    "\n",
    "# Let's see the distribution of our columns\n",
    "df.hist(bins=50, figsize=(20,15))\n",
    "plt.show()"
   ]
  },
  {
   "cell_type": "code",
   "execution_count": 7,
   "metadata": {},
   "outputs": [
    {
     "data": {
      "text/plain": [
       "LotArea          int64\n",
       "MasVnrArea     float64\n",
       "BsmtUnfSF        int64\n",
       "TotalBsmtSF      int64\n",
       "1stFlrSF         int64\n",
       "2ndFlrSF         int64\n",
       "GrLivArea        int64\n",
       "GarageArea       int64\n",
       "WoodDeckSF       int64\n",
       "OpenPorchSF      int64\n",
       "SalePrice        int64\n",
       "dtype: object"
      ]
     },
     "execution_count": 7,
     "metadata": {},
     "output_type": "execute_result"
    }
   ],
   "source": [
    "df.dtypes"
   ]
  },
  {
   "cell_type": "markdown",
   "metadata": {},
   "source": [
    "From the above output, there's need for normalization"
   ]
  },
  {
   "cell_type": "markdown",
   "metadata": {},
   "source": [
    "#### Modeling"
   ]
  },
  {
   "cell_type": "markdown",
   "metadata": {},
   "source": [
    "From the above results we can discover that the some columns have abnormal distribution, which need to be addressed before modelling. "
   ]
  },
  {
   "cell_type": "code",
   "execution_count": 19,
   "metadata": {},
   "outputs": [
    {
     "data": {
      "text/plain": [
       "LotArea        0.264674\n",
       "MasVnrArea     0.477493\n",
       "BsmtUnfSF      0.215740\n",
       "TotalBsmtSF    0.612971\n",
       "1stFlrSF       0.606849\n",
       "2ndFlrSF       0.322710\n",
       "GarageArea     0.622492\n",
       "WoodDeckSF     0.324650\n",
       "OpenPorchSF    0.311268\n",
       "SalePrice      1.000000\n",
       "dtype: float64"
      ]
     },
     "execution_count": 19,
     "metadata": {},
     "output_type": "execute_result"
    }
   ],
   "source": [
    "# Let's the corelation with the target\n",
    "df.corrwith(df[\"SalePrice\"])\n",
    "#df.corr().sort_values(ascending=False, by = 'SalePrice')"
   ]
  },
  {
   "cell_type": "code",
   "execution_count": 27,
   "metadata": {},
   "outputs": [],
   "source": [
    "# Identify the important features from the correlation above\n",
    "imprt_features = df.drop(columns='SalePrice')"
   ]
  },
  {
   "cell_type": "code",
   "execution_count": 28,
   "metadata": {},
   "outputs": [],
   "source": [
    "# DATA SPLIT\n",
    "y_var = df['SalePrice'].values #Finding the value of Y\n"
   ]
  },
  {
   "cell_type": "code",
   "execution_count": 29,
   "metadata": {},
   "outputs": [],
   "source": [
    "# Modeling \n",
    "from sklearn.model_selection import train_test_split # data split\n",
    "\n",
    "from sklearn.linear_model import LinearRegression # OLS algorithm\n",
    "from sklearn.linear_model import Ridge # Ridge algorithm\n",
    "from sklearn.linear_model import Lasso # Lasso algorithm\n",
    "from sklearn.linear_model import BayesianRidge # Bayesian algorithm\n",
    "from sklearn.linear_model import ElasticNet # ElasticNet algorithm\n",
    "from sklearn import svm\n",
    "from sklearn.tree import DecisionTreeRegressor\n",
    "from sklearn.metrics import explained_variance_score as evs # evaluation metric\n",
    "from sklearn.metrics import r2_score as r2 # evaluation metric\n",
    "from sklearn.ensemble import RandomForestRegressor\n",
    "\n",
    "\n",
    "from sklearn.metrics import mean_absolute_error\n"
   ]
  },
  {
   "cell_type": "code",
   "execution_count": 30,
   "metadata": {},
   "outputs": [],
   "source": [
    "#Standard scalling our input_columns towards modelling\n",
    "from sklearn.preprocessing import StandardScaler,MinMaxScaler\n",
    "x_scaled = MinMaxScaler().fit_transform(imprt_features)"
   ]
  },
  {
   "cell_type": "code",
   "execution_count": 31,
   "metadata": {},
   "outputs": [],
   "source": [
    "# Modelling part\n",
    "from sklearn.model_selection import train_test_split\n",
    "X_train, X_test, y_train, y_test = train_test_split(x_scaled, y_var, test_size = 0.2, random_state = 0)"
   ]
  },
  {
   "cell_type": "code",
   "execution_count": null,
   "metadata": {},
   "outputs": [],
   "source": [
    "'''# Label Encoding and scalling\n",
    "# label encode the categorical values and convert them to numbers/strings \n",
    "le = LabelEncoder()\n",
    "le.fit(X_train['GrLivArea'].astype(str))\n",
    "X_train['GrLivArea'] = le.transform(X_train['GrLivArea'].astype(str))\n",
    "X_test['GrLivArea'] = le.transform(X_test['GrLivArea'].astype(str)) #\n",
    "\n",
    "#Standard scalling our input_columns towards modelling\n",
    "from sklearn.preprocessing import StandardScaler\n",
    "x_scaled = StandardScaler().fit_transform(imprt_features)'''"
   ]
  },
  {
   "cell_type": "code",
   "execution_count": 32,
   "metadata": {},
   "outputs": [],
   "source": [
    "# MODELLING\n",
    "\n",
    "\n",
    "# 1. OLS\n",
    "\n",
    "ols = LinearRegression()\n",
    "ols.fit(X_train, y_train)\n",
    "ols_yhat = ols.predict(X_test)\n",
    "\n",
    "# 2. Ridge\n",
    "\n",
    "ridge = Ridge(alpha = 0.5)\n",
    "ridge.fit(X_train, y_train)\n",
    "ridge_yhat = ridge.predict(X_test)\n",
    "\n",
    "# 3. Lasso\n",
    "\n",
    "lasso = Lasso(alpha = 0.01)\n",
    "lasso.fit(X_train, y_train)\n",
    "lasso_yhat = lasso.predict(X_test)\n",
    "\n",
    "# 4. Bayesian\n",
    "\n",
    "bayesian = BayesianRidge()\n",
    "bayesian.fit(X_train, y_train)\n",
    "bayesian_yhat = bayesian.predict(X_test)\n",
    "\n",
    "# 5. ElasticNet\n",
    "\n",
    "en = ElasticNet(alpha = 0.01)\n",
    "en.fit(X_train, y_train)\n",
    "en_yhat = en.predict(X_test)\n"
   ]
  },
  {
   "cell_type": "code",
   "execution_count": 36,
   "metadata": {},
   "outputs": [
    {
     "name": "stdout",
     "output_type": "stream",
     "text": [
      "\u001b[1mEXPLAINED VARIANCE SCORE:\u001b[0m\n",
      "Explained Variance Score of OLS model is 0.773413545393248\u001b[0m\n",
      "Explained Variance Score of Ridge model is 0.7699848361726709\u001b[0m\n",
      "Explained Variance Score of Lasso model is 0.7734127799670799\u001b[0m\n",
      "Explained Variance Score of Bayesian model is 0.7727390564170438\u001b[0m\n",
      "Explained Variance Score of ElasticNet is 0.7311298699202096\u001b[0m\n",
      "\u001b[1mR-SQUARED:\u001b[0m\n",
      "R-Squared of OLS model is 0.7724270074145598\u001b[0m\n",
      "R-Squared of Ridge model is 0.7689914499511438\u001b[0m\n",
      "R-Squared of Lasso model is 0.7724262393312514\u001b[0m\n",
      "R-Squared of Bayesian model is 0.7717507804341076\u001b[0m\n",
      "R-Squared of ElasticNet is 0.7299691468118115\u001b[0m\n"
     ]
    }
   ],
   "source": [
    "# EVALUATION\n",
    "\n",
    "# 1. Explained Variance Score\n",
    "\n",
    "print(cl('EXPLAINED VARIANCE SCORE:', attrs = ['bold']))\n",
    "print(cl('Explained Variance Score of OLS model is {}'.format(evs(y_test, ols_yhat))))\n",
    "print(cl('Explained Variance Score of Ridge model is {}'.format(evs(y_test, ridge_yhat))))\n",
    "print(cl('Explained Variance Score of Lasso model is {}'.format(evs(y_test, lasso_yhat))))\n",
    "print(cl('Explained Variance Score of Bayesian model is {}'.format(evs(y_test, bayesian_yhat))))\n",
    "print(cl('Explained Variance Score of ElasticNet is {}'.format(evs(y_test, en_yhat))))\n",
    "\n",
    "# R-squared\n",
    "\n",
    "print(cl('R-SQUARED:', attrs = ['bold']))\n",
    "print(cl('R-Squared of OLS model is {}'.format(r2(y_test, ols_yhat))))\n",
    "print(cl('R-Squared of Ridge model is {}'.format(r2(y_test, ridge_yhat))))\n",
    "print(cl('R-Squared of Lasso model is {}'.format(r2(y_test, lasso_yhat))))\n",
    "print(cl('R-Squared of Bayesian model is {}'.format(r2(y_test, bayesian_yhat))))\n",
    "print(cl('R-Squared of ElasticNet is {}'.format(r2(y_test, en_yhat))))"
   ]
  },
  {
   "cell_type": "code",
   "execution_count": 43,
   "metadata": {},
   "outputs": [
    {
     "name": "stdout",
     "output_type": "stream",
     "text": [
      "[118633.89965592 160251.14581336 217048.94031415 180613.00408905\n",
      " 241100.34857677 198130.11617513 180401.38295061 157622.4387518\n",
      " 165472.576965   205025.24492524 193665.61635097 135504.39888179\n",
      " 235502.3488027  295511.46727152 224551.49242456 457404.84399054\n",
      " 238634.73089873 144520.12877951 131443.11888866 193798.98036047\n",
      " 182607.54006175 126409.75485768 171018.53412235 253660.34178532\n",
      " 133108.89129626 122593.12923149 142080.85722367 211907.29737095\n",
      " 245535.90711818 285654.77994333 147931.83099305 207269.87323278\n",
      " 106923.58433216 340502.67606419 133264.29539737  66113.68273763\n",
      " 152851.79815787 141490.48934838 193370.35248192 129839.93571993\n",
      " 138729.21661865 249186.59805779 145349.12748507 141816.2381636\n",
      " 156283.89102845 105147.67703618 102334.40152098 281350.2604117\n",
      " 125450.75229888 150364.53053602 179096.87473286 300897.6413387\n",
      "  81703.95082948 117287.37559537 258427.50252559 128235.20806581\n",
      " 299953.87346934 136019.70721783 269084.00034295 293109.06661383\n",
      " 179792.00827282 162790.78413942 210354.65502028 260701.06738854\n",
      " 157246.00375312 156737.71925316 152975.09657161 154741.88195526\n",
      " 168762.55871394 203297.84060559 102261.70703646 234992.00747211\n",
      " 146297.0186411   47243.93875454 149307.88098469 189846.24551693\n",
      " 149692.52971979 217266.37284807 109075.4173925  108169.32595985\n",
      " 175044.68131302 259942.60087699  92032.70625466 131826.46093316\n",
      " 128682.80620362 138324.48582367 109141.57698188 117518.5198133\n",
      " 240737.63305717 240623.05798208 158915.314598   219609.40617716\n",
      "  74304.07352194 180662.74633937 181662.20592626 167319.37544654\n",
      " 127665.12293714  87585.45831848 234329.37705025 122166.69304362\n",
      " 150554.76645856 171629.74199967 122015.97837697 214049.67359851\n",
      " 180421.82365455 170493.7586069  187402.85220263 145247.33149006\n",
      " 171424.54288048 119522.60422831 144203.73005643 199433.2519085\n",
      " 183260.8492029   86307.23763298 109351.70979393 179934.90832108\n",
      "  91014.93028001 146923.9031323  131443.31916304 156282.84633633\n",
      " 140335.38330575 193676.37797816 112227.05574946 153962.86032762\n",
      " 253545.47202722 306330.90557581 239051.65297485 149034.21450811\n",
      " 117119.47953578 212219.72457637 141278.27065635 238937.62775946\n",
      " 140884.13261554 195425.91532579 246247.71525248 216991.0643608\n",
      " 196551.73249583 149245.95721893 248206.00120579 236146.89858039\n",
      " 290782.76203961 139420.40418154 156210.0960436  269581.45340766\n",
      " 105417.07768025 189228.69236012 216263.79234921 279427.3809806\n",
      " 191571.75574704 136890.52462365 113402.86247191 104410.45501873\n",
      " 113279.4971148  262921.08118812 176475.85556602 193171.93864389\n",
      " 194741.57150173 203736.33054497 311024.48949195 123570.45744446\n",
      " 353852.22570423 105020.39090475 186231.81912445 277322.85859312\n",
      " 272070.37491643 245905.74741655  67138.84924137 118499.05951322\n",
      " 152327.51114198 158084.25730031 209085.54030612 140096.56239441\n",
      " 109054.80865174 207896.61966504 131852.66247228 104430.10809489\n",
      " 216526.4787551  192130.91080524 150701.64899296 193829.98541049\n",
      " 201766.94477841 138980.66805498 190927.36330655 363358.00614734\n",
      " 253013.6823396  325411.07737357 311141.38898412 220291.23767037\n",
      " 171179.16879087 157189.63042839 159557.19697573 261301.33044658\n",
      " 153083.67941137 317658.80958374 130743.97021782 362032.03062589\n",
      " 230164.25503548 177207.2793615  301652.99991819 197373.92678119\n",
      " 164374.45869178 283950.48834655 174193.95927922 113042.38496295\n",
      " 110143.17312179 171399.08523263 268016.35612278 365566.28965306\n",
      "  77788.49641868  72842.1430996  180983.37259083 200832.4166447\n",
      " 207937.42558656 170748.8460441   57430.82994129 127970.48759937\n",
      " 122977.25375198 165883.60862498 222528.13006484 205105.0041085\n",
      " 179448.04192992 158210.1443385  219197.33260846 268020.24510046\n",
      " 195427.4533851  147794.52235983 234548.68167564 160407.44072586\n",
      " 341358.30760321 116920.38275312 227838.68076446 135258.33746125\n",
      " 222465.48934998 196479.81751463 219895.69548815 209984.76754101\n",
      " 190303.52269906 109564.12319615 248437.32731081 105863.33416597\n",
      " 178507.09749051 227138.04211664 212895.15122597 176907.70671207\n",
      " 180709.14145455 140363.83721964 211340.0503621  164135.92570104\n",
      "  65774.40034286 164512.54380418 198162.44570646 180477.93344266\n",
      " 121495.75004695 203462.18541188 146278.84006994 147426.73588639\n",
      " 281717.26298465 206588.06627124 185888.47796336 140075.08881584\n",
      " 131637.78470735 243601.73659419 151535.6464616  133685.51782856\n",
      " 147708.84741391 188356.33119454 305355.65833239 236063.82359089\n",
      " 309520.92048899 134962.71281036 250223.6134904  196303.37774818\n",
      " 208111.45580917 284970.89281279 129993.58823187 106588.75362834\n",
      " 156354.15973956 182160.74287743 126468.20811026 195179.67385346\n",
      " 169628.04471266 176999.98775118 162910.55224371 197198.14573026\n",
      " 109972.22859284 151694.05022465 238863.80354006 202754.75704041\n",
      " 186905.81402997 165172.34119431 352519.12526234]\n"
     ]
    }
   ],
   "source": [
    "# Produce the prediction results from the test results\n",
    "predicted_prices = ols.predict(X_test)\n",
    "print(predicted_prices)"
   ]
  },
  {
   "cell_type": "code",
   "execution_count": 45,
   "metadata": {},
   "outputs": [
    {
     "data": {
      "text/plain": [
       "\"\\nmy_submission = pd.DataFrame({'Id': test.Id, 'SalePrice': predicted_prices})\\n# you could use any filename. We choose submission here\\nmy_submission.to_csv('submission.csv', index=False)\""
      ]
     },
     "execution_count": 45,
     "metadata": {},
     "output_type": "execute_result"
    }
   ],
   "source": [
    "'''\n",
    "my_submission = pd.DataFrame({'Id': test.Id, 'SalePrice': predicted_prices})\n",
    "# you could use any filename. We choose submission here\n",
    "my_submission.to_csv('submission.csv', index=False)'''"
   ]
  },
  {
   "cell_type": "markdown",
   "metadata": {},
   "source": [
    "### Save the model"
   ]
  },
  {
   "cell_type": "code",
   "execution_count": 47,
   "metadata": {},
   "outputs": [],
   "source": [
    "import pickle \n",
    "filename = 'hmodel.pkl'\n",
    "pickle.dump(ols, open(filename, 'wb'))"
   ]
  },
  {
   "cell_type": "code",
   "execution_count": 51,
   "metadata": {},
   "outputs": [],
   "source": [
    "# Load the model\n",
    "my_model_load = pickle.load(open(\"hmodel.pkl\", \"rb\"))"
   ]
  },
  {
   "cell_type": "code",
   "execution_count": null,
   "metadata": {},
   "outputs": [],
   "source": []
  }
 ],
 "metadata": {
  "kernelspec": {
   "display_name": "Python 3",
   "language": "python",
   "name": "python3"
  },
  "language_info": {
   "codemirror_mode": {
    "name": "ipython",
    "version": 3
   },
   "file_extension": ".py",
   "mimetype": "text/x-python",
   "name": "python",
   "nbconvert_exporter": "python",
   "pygments_lexer": "ipython3",
   "version": "3.8.5"
  }
 },
 "nbformat": 4,
 "nbformat_minor": 4
}
